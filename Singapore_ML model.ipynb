{
 "cells": [
  {
   "cell_type": "code",
   "execution_count": 1,
   "id": "75f51a5d",
   "metadata": {},
   "outputs": [
    {
     "data": {
      "text/html": [
       "<div>\n",
       "<style scoped>\n",
       "    .dataframe tbody tr th:only-of-type {\n",
       "        vertical-align: middle;\n",
       "    }\n",
       "\n",
       "    .dataframe tbody tr th {\n",
       "        vertical-align: top;\n",
       "    }\n",
       "\n",
       "    .dataframe thead th {\n",
       "        text-align: right;\n",
       "    }\n",
       "</style>\n",
       "<table border=\"1\" class=\"dataframe\">\n",
       "  <thead>\n",
       "    <tr style=\"text-align: right;\">\n",
       "      <th></th>\n",
       "      <th>resale_price</th>\n",
       "      <th>lease_remain_years</th>\n",
       "      <th>bhk</th>\n",
       "      <th>floor</th>\n",
       "      <th>address_encoded_numeric</th>\n",
       "    </tr>\n",
       "  </thead>\n",
       "  <tbody>\n",
       "    <tr>\n",
       "      <th>0</th>\n",
       "      <td>255000.0</td>\n",
       "      <td>62</td>\n",
       "      <td>3</td>\n",
       "      <td>8.0</td>\n",
       "      <td>20</td>\n",
       "    </tr>\n",
       "    <tr>\n",
       "      <th>1</th>\n",
       "      <td>275000.0</td>\n",
       "      <td>57</td>\n",
       "      <td>3</td>\n",
       "      <td>2.0</td>\n",
       "      <td>20</td>\n",
       "    </tr>\n",
       "    <tr>\n",
       "      <th>2</th>\n",
       "      <td>285000.0</td>\n",
       "      <td>56</td>\n",
       "      <td>3</td>\n",
       "      <td>2.0</td>\n",
       "      <td>20</td>\n",
       "    </tr>\n",
       "    <tr>\n",
       "      <th>3</th>\n",
       "      <td>290000.0</td>\n",
       "      <td>55</td>\n",
       "      <td>3</td>\n",
       "      <td>2.0</td>\n",
       "      <td>20</td>\n",
       "    </tr>\n",
       "    <tr>\n",
       "      <th>4</th>\n",
       "      <td>290000.0</td>\n",
       "      <td>56</td>\n",
       "      <td>3</td>\n",
       "      <td>8.0</td>\n",
       "      <td>20</td>\n",
       "    </tr>\n",
       "    <tr>\n",
       "      <th>...</th>\n",
       "      <td>...</td>\n",
       "      <td>...</td>\n",
       "      <td>...</td>\n",
       "      <td>...</td>\n",
       "      <td>...</td>\n",
       "    </tr>\n",
       "    <tr>\n",
       "      <th>180714</th>\n",
       "      <td>630000.0</td>\n",
       "      <td>91</td>\n",
       "      <td>5</td>\n",
       "      <td>5.0</td>\n",
       "      <td>20</td>\n",
       "    </tr>\n",
       "    <tr>\n",
       "      <th>180715</th>\n",
       "      <td>702000.0</td>\n",
       "      <td>94</td>\n",
       "      <td>5</td>\n",
       "      <td>8.0</td>\n",
       "      <td>20</td>\n",
       "    </tr>\n",
       "    <tr>\n",
       "      <th>180716</th>\n",
       "      <td>685000.0</td>\n",
       "      <td>92</td>\n",
       "      <td>5</td>\n",
       "      <td>8.0</td>\n",
       "      <td>20</td>\n",
       "    </tr>\n",
       "    <tr>\n",
       "      <th>180717</th>\n",
       "      <td>750000.0</td>\n",
       "      <td>93</td>\n",
       "      <td>5</td>\n",
       "      <td>11.0</td>\n",
       "      <td>20</td>\n",
       "    </tr>\n",
       "    <tr>\n",
       "      <th>180718</th>\n",
       "      <td>660000.0</td>\n",
       "      <td>64</td>\n",
       "      <td>5</td>\n",
       "      <td>11.0</td>\n",
       "      <td>20</td>\n",
       "    </tr>\n",
       "  </tbody>\n",
       "</table>\n",
       "<p>180719 rows × 5 columns</p>\n",
       "</div>"
      ],
      "text/plain": [
       "        resale_price  lease_remain_years  bhk  floor  address_encoded_numeric\n",
       "0           255000.0                  62    3    8.0                       20\n",
       "1           275000.0                  57    3    2.0                       20\n",
       "2           285000.0                  56    3    2.0                       20\n",
       "3           290000.0                  55    3    2.0                       20\n",
       "4           290000.0                  56    3    8.0                       20\n",
       "...              ...                 ...  ...    ...                      ...\n",
       "180714      630000.0                  91    5    5.0                       20\n",
       "180715      702000.0                  94    5    8.0                       20\n",
       "180716      685000.0                  92    5    8.0                       20\n",
       "180717      750000.0                  93    5   11.0                       20\n",
       "180718      660000.0                  64    5   11.0                       20\n",
       "\n",
       "[180719 rows x 5 columns]"
      ]
     },
     "execution_count": 1,
     "metadata": {},
     "output_type": "execute_result"
    }
   ],
   "source": [
    "import pandas as pd\n",
    "\n",
    "df = pd.read_csv(\"Singapore_dataset.csv\")\n",
    "df"
   ]
  },
  {
   "cell_type": "code",
   "execution_count": 2,
   "id": "76fd2745",
   "metadata": {},
   "outputs": [],
   "source": [
    "X = df.drop(['resale_price'], axis=1)\n",
    "y = df['resale_price']"
   ]
  },
  {
   "cell_type": "code",
   "execution_count": 3,
   "id": "51b78635",
   "metadata": {},
   "outputs": [
    {
     "data": {
      "text/html": [
       "<div>\n",
       "<style scoped>\n",
       "    .dataframe tbody tr th:only-of-type {\n",
       "        vertical-align: middle;\n",
       "    }\n",
       "\n",
       "    .dataframe tbody tr th {\n",
       "        vertical-align: top;\n",
       "    }\n",
       "\n",
       "    .dataframe thead th {\n",
       "        text-align: right;\n",
       "    }\n",
       "</style>\n",
       "<table border=\"1\" class=\"dataframe\">\n",
       "  <thead>\n",
       "    <tr style=\"text-align: right;\">\n",
       "      <th></th>\n",
       "      <th>lease_remain_years</th>\n",
       "      <th>bhk</th>\n",
       "      <th>floor</th>\n",
       "      <th>address_encoded_numeric</th>\n",
       "    </tr>\n",
       "  </thead>\n",
       "  <tbody>\n",
       "    <tr>\n",
       "      <th>0</th>\n",
       "      <td>62</td>\n",
       "      <td>3</td>\n",
       "      <td>8.0</td>\n",
       "      <td>20</td>\n",
       "    </tr>\n",
       "    <tr>\n",
       "      <th>1</th>\n",
       "      <td>57</td>\n",
       "      <td>3</td>\n",
       "      <td>2.0</td>\n",
       "      <td>20</td>\n",
       "    </tr>\n",
       "    <tr>\n",
       "      <th>2</th>\n",
       "      <td>56</td>\n",
       "      <td>3</td>\n",
       "      <td>2.0</td>\n",
       "      <td>20</td>\n",
       "    </tr>\n",
       "    <tr>\n",
       "      <th>3</th>\n",
       "      <td>55</td>\n",
       "      <td>3</td>\n",
       "      <td>2.0</td>\n",
       "      <td>20</td>\n",
       "    </tr>\n",
       "    <tr>\n",
       "      <th>4</th>\n",
       "      <td>56</td>\n",
       "      <td>3</td>\n",
       "      <td>8.0</td>\n",
       "      <td>20</td>\n",
       "    </tr>\n",
       "    <tr>\n",
       "      <th>...</th>\n",
       "      <td>...</td>\n",
       "      <td>...</td>\n",
       "      <td>...</td>\n",
       "      <td>...</td>\n",
       "    </tr>\n",
       "    <tr>\n",
       "      <th>180714</th>\n",
       "      <td>91</td>\n",
       "      <td>5</td>\n",
       "      <td>5.0</td>\n",
       "      <td>20</td>\n",
       "    </tr>\n",
       "    <tr>\n",
       "      <th>180715</th>\n",
       "      <td>94</td>\n",
       "      <td>5</td>\n",
       "      <td>8.0</td>\n",
       "      <td>20</td>\n",
       "    </tr>\n",
       "    <tr>\n",
       "      <th>180716</th>\n",
       "      <td>92</td>\n",
       "      <td>5</td>\n",
       "      <td>8.0</td>\n",
       "      <td>20</td>\n",
       "    </tr>\n",
       "    <tr>\n",
       "      <th>180717</th>\n",
       "      <td>93</td>\n",
       "      <td>5</td>\n",
       "      <td>11.0</td>\n",
       "      <td>20</td>\n",
       "    </tr>\n",
       "    <tr>\n",
       "      <th>180718</th>\n",
       "      <td>64</td>\n",
       "      <td>5</td>\n",
       "      <td>11.0</td>\n",
       "      <td>20</td>\n",
       "    </tr>\n",
       "  </tbody>\n",
       "</table>\n",
       "<p>180719 rows × 4 columns</p>\n",
       "</div>"
      ],
      "text/plain": [
       "        lease_remain_years  bhk  floor  address_encoded_numeric\n",
       "0                       62    3    8.0                       20\n",
       "1                       57    3    2.0                       20\n",
       "2                       56    3    2.0                       20\n",
       "3                       55    3    2.0                       20\n",
       "4                       56    3    8.0                       20\n",
       "...                    ...  ...    ...                      ...\n",
       "180714                  91    5    5.0                       20\n",
       "180715                  94    5    8.0                       20\n",
       "180716                  92    5    8.0                       20\n",
       "180717                  93    5   11.0                       20\n",
       "180718                  64    5   11.0                       20\n",
       "\n",
       "[180719 rows x 4 columns]"
      ]
     },
     "execution_count": 3,
     "metadata": {},
     "output_type": "execute_result"
    }
   ],
   "source": [
    "X"
   ]
  },
  {
   "cell_type": "code",
   "execution_count": 4,
   "id": "01334da2",
   "metadata": {},
   "outputs": [
    {
     "data": {
      "text/plain": [
       "0         255000.0\n",
       "1         275000.0\n",
       "2         285000.0\n",
       "3         290000.0\n",
       "4         290000.0\n",
       "            ...   \n",
       "180714    630000.0\n",
       "180715    702000.0\n",
       "180716    685000.0\n",
       "180717    750000.0\n",
       "180718    660000.0\n",
       "Name: resale_price, Length: 180719, dtype: float64"
      ]
     },
     "execution_count": 4,
     "metadata": {},
     "output_type": "execute_result"
    }
   ],
   "source": [
    "y"
   ]
  },
  {
   "cell_type": "markdown",
   "id": "025712b3",
   "metadata": {},
   "source": [
    "## Splitting data into training and testing purpose"
   ]
  },
  {
   "cell_type": "code",
   "execution_count": 5,
   "id": "d28e0bd7",
   "metadata": {},
   "outputs": [],
   "source": [
    "from sklearn.model_selection import train_test_split\n",
    "\n",
    "X_train, X_test, y_train, y_test = train_test_split(X, y, test_size=0.2, random_state=42)"
   ]
  },
  {
   "cell_type": "code",
   "execution_count": 6,
   "id": "25a7e23c",
   "metadata": {},
   "outputs": [
    {
     "name": "stdout",
     "output_type": "stream",
     "text": [
      "144575\n",
      "144575\n",
      "36144\n",
      "36144\n"
     ]
    }
   ],
   "source": [
    "print(len(X_train))\n",
    "print(len(y_train))\n",
    "print(len(X_test))\n",
    "print(len(y_test))"
   ]
  },
  {
   "cell_type": "code",
   "execution_count": 7,
   "id": "0b2a5a61",
   "metadata": {},
   "outputs": [
    {
     "data": {
      "text/plain": [
       "0.46113714212667534"
      ]
     },
     "execution_count": 7,
     "metadata": {},
     "output_type": "execute_result"
    }
   ],
   "source": [
    "from sklearn.linear_model import LinearRegression\n",
    "\n",
    "# Building the model\n",
    "lr_clf = LinearRegression()\n",
    "# Fitting the model with training dataset\n",
    "lr_clf.fit(X_train,y_train)\n",
    "#Predicting model's accuracy\n",
    "lr_clf.score(X_test,y_test)"
   ]
  },
  {
   "cell_type": "code",
   "execution_count": 8,
   "id": "e6e078f2",
   "metadata": {},
   "outputs": [
    {
     "name": "stdout",
     "output_type": "stream",
     "text": [
      "Ridge Regression R^2 Score: 0.4611371591521508\n",
      "Ridge Coefficients:\n",
      "lease_remain_years          2236.811305\n",
      "bhk                        91417.867574\n",
      "floor                       6335.832269\n",
      "address_encoded_numeric     1977.287188\n",
      "dtype: float64\n"
     ]
    }
   ],
   "source": [
    "from sklearn.linear_model import Ridge\n",
    "\n",
    "# Apply Ridge regression\n",
    "alpha = 1.0  # You can adjust the alpha parameter based on your needs\n",
    "ridge_model = Ridge(alpha=alpha)\n",
    "ridge_model.fit(X_train, y_train)\n",
    "\n",
    "# Evaluate the model on the test set\n",
    "ridge_score = ridge_model.score(X_test, y_test)\n",
    "\n",
    "# Display the results\n",
    "print(f\"Ridge Regression R^2 Score: {ridge_score}\")\n",
    "print(\"Ridge Coefficients:\")\n",
    "print(pd.Series(ridge_model.coef_, index=X.columns))"
   ]
  },
  {
   "cell_type": "code",
   "execution_count": 9,
   "id": "a478abdc",
   "metadata": {},
   "outputs": [
    {
     "name": "stdout",
     "output_type": "stream",
     "text": [
      "R-squared: 0.5850372632483065\n"
     ]
    }
   ],
   "source": [
    "from sklearn.ensemble import RandomForestRegressor\n",
    "from sklearn.metrics import r2_score\n",
    "\n",
    "# Apply Random Forest\n",
    "rf_model = RandomForestRegressor(n_estimators=100, random_state=42)\n",
    "rf_model.fit(X_train, y_train)\n",
    "\n",
    "# Predict on the test set\n",
    "y_pred = rf_model.predict(X_test)\n",
    "\n",
    "# Calculate R-squared\n",
    "r_squared = r2_score(y_test, y_pred)\n",
    "print(f'R-squared: {r_squared}')"
   ]
  },
  {
   "cell_type": "code",
   "execution_count": 11,
   "id": "24640b6b",
   "metadata": {},
   "outputs": [
    {
     "name": "stdout",
     "output_type": "stream",
     "text": [
      "Mean Squared Error: 8573439063.736204\n",
      "Root Mean Squared Error: 92592.86724006447\n"
     ]
    }
   ],
   "source": [
    "from sklearn.ensemble import GradientBoostingRegressor\n",
    "from sklearn.metrics import mean_squared_error\n",
    "import numpy as np\n",
    "\n",
    "# Initialize the GradientBoostingRegressor\n",
    "gb_reg = GradientBoostingRegressor(n_estimators=100, learning_rate=0.1, random_state=42)\n",
    "\n",
    "# Fit the model to the training data\n",
    "gb_reg.fit(X_train, y_train)\n",
    "\n",
    "# Make predictions on the test set\n",
    "y_pred = gb_reg.predict(X_test)\n",
    "\n",
    "# Evaluate the model\n",
    "mse = mean_squared_error(y_test, y_pred)\n",
    "rmse = np.sqrt(mse)\n",
    "print(f\"Mean Squared Error: {mse}\")\n",
    "print(f\"Root Mean Squared Error: {rmse}\")"
   ]
  },
  {
   "cell_type": "code",
   "execution_count": 12,
   "id": "bd430b63",
   "metadata": {},
   "outputs": [
    {
     "name": "stdout",
     "output_type": "stream",
     "text": [
      "R-squared Value: 0.5644004229046364\n"
     ]
    }
   ],
   "source": [
    "from sklearn.metrics import r2_score\n",
    "\n",
    "# Calculate R-squared value\n",
    "r2 = r2_score(y_test, y_pred)\n",
    "print(f\"R-squared Value: {r2}\")"
   ]
  },
  {
   "cell_type": "code",
   "execution_count": 13,
   "id": "994d6530",
   "metadata": {},
   "outputs": [
    {
     "name": "stdout",
     "output_type": "stream",
     "text": [
      "Predicted Resale Price: [241151.92419836]\n"
     ]
    },
    {
     "name": "stderr",
     "output_type": "stream",
     "text": [
      "C:\\Users\\HP\\AppData\\Roaming\\Python\\Python311\\site-packages\\sklearn\\base.py:465: UserWarning: X does not have valid feature names, but RandomForestRegressor was fitted with feature names\n",
      "  warnings.warn(\n"
     ]
    }
   ],
   "source": [
    "new_sample = np.array([[62, 3, 5.0, 5]])\n",
    "new_pred = rf_model.predict(new_sample)\n",
    "print(\"Predicted Resale Price:\", new_pred)"
   ]
  },
  {
   "cell_type": "code",
   "execution_count": 14,
   "id": "1e4f8f8b",
   "metadata": {},
   "outputs": [
    {
     "name": "stdout",
     "output_type": "stream",
     "text": [
      "Predicted Resale Price: [241151.92419836]\n"
     ]
    },
    {
     "name": "stderr",
     "output_type": "stream",
     "text": [
      "C:\\Users\\HP\\AppData\\Roaming\\Python\\Python311\\site-packages\\sklearn\\base.py:465: UserWarning: X does not have valid feature names, but RandomForestRegressor was fitted with feature names\n",
      "  warnings.warn(\n"
     ]
    }
   ],
   "source": [
    "import numpy as np\n",
    "\n",
    "# Assuming new_sample is your new input data\n",
    "new_sample = np.array([[62, 3, 5.0, 5]])\n",
    "\n",
    "# Make predictions using the trained RandomForestRegressor model\n",
    "new_pred = rf_model.predict(new_sample)\n",
    "\n",
    "# Display the predicted resale price\n",
    "print(\"Predicted Resale Price:\", new_pred)"
   ]
  },
  {
   "cell_type": "code",
   "execution_count": 15,
   "id": "7a9d7290",
   "metadata": {},
   "outputs": [
    {
     "name": "stdout",
     "output_type": "stream",
     "text": [
      "Predicted Resale Price: [241151.92419836]\n"
     ]
    }
   ],
   "source": [
    "import numpy as np\n",
    "\n",
    "# Assuming new_sample is your new input data\n",
    "new_sample = np.array([[62, 3, 5.0, 5]])\n",
    "feature_names = ['lease_remain_years', 'bhk', 'floor', 'address_encoded_numeric']\n",
    "new_sample_df = pd.DataFrame(new_sample, columns=feature_names)\n",
    "\n",
    "# Make predictions using the trained RandomForestRegressor model\n",
    "new_pred = rf_model.predict(new_sample_df)\n",
    "\n",
    "# Display the predicted resale price\n",
    "print(\"Predicted Resale Price:\", new_pred)"
   ]
  },
  {
   "cell_type": "code",
   "execution_count": 10,
   "id": "0d986b72",
   "metadata": {},
   "outputs": [
    {
     "data": {
      "text/plain": [
       "\"from sklearn.svm import SVR\\nfrom sklearn.metrics import mean_squared_error, mean_absolute_error\\n\\n# Create and train the Support Vector Machine Regressor\\nsvr = SVR(kernel='rbf')  # You can choose different kernels like 'linear', 'poly', etc.\\nsvr.fit(X_train, y_train)\\n\\n# Make predictions on the test set\\ny_pred = svr.predict(X_test)\\n\\n# Evaluate the model\\nmse = mean_squared_error(y_test, y_pred)\\nmae = mean_absolute_error(y_test, y_pred)\\n\\n# Print the evaluation metrics\\nprint(f'Mean Squared Error (MSE): {mse:.2f}')\\nprint(f'Mean Absolute Error (MAE): {mae:.2f}')\""
      ]
     },
     "execution_count": 10,
     "metadata": {},
     "output_type": "execute_result"
    }
   ],
   "source": [
    "'''from sklearn.svm import SVR\n",
    "from sklearn.metrics import mean_squared_error, mean_absolute_error\n",
    "\n",
    "# Create and train the Support Vector Machine Regressor\n",
    "svr = SVR(kernel='rbf')  # You can choose different kernels like 'linear', 'poly', etc.\n",
    "svr.fit(X_train, y_train)\n",
    "\n",
    "# Make predictions on the test set\n",
    "y_pred = svr.predict(X_test)\n",
    "\n",
    "# Evaluate the model\n",
    "mse = mean_squared_error(y_test, y_pred)\n",
    "mae = mean_absolute_error(y_test, y_pred)\n",
    "\n",
    "# Print the evaluation metrics\n",
    "print(f'Mean Squared Error (MSE): {mse:.2f}')\n",
    "print(f'Mean Absolute Error (MAE): {mae:.2f}')'''"
   ]
  },
  {
   "cell_type": "markdown",
   "id": "0405e59b",
   "metadata": {},
   "source": [
    "### SVR model is very much time consuming"
   ]
  },
  {
   "cell_type": "code",
   "execution_count": null,
   "id": "c53f6853",
   "metadata": {},
   "outputs": [],
   "source": []
  }
 ],
 "metadata": {
  "kernelspec": {
   "display_name": "Python 3 (ipykernel)",
   "language": "python",
   "name": "python3"
  },
  "language_info": {
   "codemirror_mode": {
    "name": "ipython",
    "version": 3
   },
   "file_extension": ".py",
   "mimetype": "text/x-python",
   "name": "python",
   "nbconvert_exporter": "python",
   "pygments_lexer": "ipython3",
   "version": "3.11.3"
  }
 },
 "nbformat": 4,
 "nbformat_minor": 5
}
